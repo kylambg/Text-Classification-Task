{
 "cells": [
  {
   "cell_type": "markdown",
   "metadata": {},
   "source": [
    "Team 12  \n",
    "Authors: Lam Kwun Yuk, Sha Yu Hin  \n",
    "IDs: 20512073, 20516835  "
   ]
  },
  {
   "cell_type": "code",
   "execution_count": 61,
   "metadata": {},
   "outputs": [],
   "source": [
    "import numpy as np\n",
    "import os\n",
    "import pickle as pkl\n",
    "import tensorflow as tf\n",
    "import nltk\n",
    "from nltk.corpus import stopwords\n",
    "from tensorflow.keras.utils import to_categorical\n",
    "from collections import Counter, defaultdict\n",
    "from matplotlib import pyplot as plt"
   ]
  },
  {
   "cell_type": "code",
   "execution_count": 2,
   "metadata": {},
   "outputs": [
    {
     "name": "stdout",
     "output_type": "stream",
     "text": [
      "keys in train_dict: dict_keys(['id', 'word_seq', 'tag_seq'])\n",
      "keys in val_dict: dict_keys(['id', 'word_seq', 'tag_seq'])\n",
      "keys in test_dict: dict_keys(['id', 'word_seq'])\n"
     ]
    }
   ],
   "source": [
    "train_dict = pkl.load(open(\"data/train.pkl\", \"rb\"))\n",
    "val_dict = pkl.load(open(\"data/val.pkl\", \"rb\"))\n",
    "test_dict = pkl.load(open(\"data/test.pkl\", \"rb\"))\n",
    "print(\"keys in train_dict:\", train_dict.keys())\n",
    "print(\"keys in val_dict:\", val_dict.keys())\n",
    "print(\"keys in test_dict:\", test_dict.keys())"
   ]
  },
  {
   "cell_type": "code",
   "execution_count": 3,
   "metadata": {},
   "outputs": [
    {
     "name": "stdout",
     "output_type": "stream",
     "text": [
      "size of word vocab: 82275 size of tag_dict: 65\n"
     ]
    }
   ],
   "source": [
    "vocab_dict = {'_unk_': 0, '_w_pad_': 1}\n",
    "\n",
    "for doc in train_dict['word_seq']:\n",
    "    for word in doc:\n",
    "        if(word not in vocab_dict):\n",
    "            vocab_dict[word] = len(vocab_dict)\n",
    "\n",
    "tag_dict = {'_t_pad_': 0} # add a padding token\n",
    "\n",
    "for tag_seq in train_dict['tag_seq']:\n",
    "    for tag in tag_seq:\n",
    "        if(tag not in tag_dict):\n",
    "            tag_dict[tag] = len(tag_dict)\n",
    "word2idx = vocab_dict\n",
    "idx2word = {v:k for k,v in word2idx.items()}\n",
    "tag2idx = tag_dict\n",
    "idx2tag = {v:k for k,v in tag2idx.items()}            \n",
    "\n",
    "print(\"size of word vocab:\", len(vocab_dict), \"size of tag_dict:\", len(tag_dict))"
   ]
  },
  {
   "cell_type": "code",
   "execution_count": 4,
   "metadata": {},
   "outputs": [],
   "source": [
    "counter = Counter()\n",
    "for l in train_dict[\"tag_seq\"]:\n",
    "    counter.update(l)"
   ]
  },
  {
   "cell_type": "markdown",
   "metadata": {},
   "source": [
    "The percentage of occurence of type 'O':"
   ]
  },
  {
   "cell_type": "code",
   "execution_count": 5,
   "metadata": {},
   "outputs": [
    {
     "data": {
      "text/plain": [
       "0.6987533103813559"
      ]
     },
     "execution_count": 5,
     "metadata": {},
     "output_type": "execute_result"
    }
   ],
   "source": [
    "counter.most_common()[0][1]/sum(c[1] for c in counter.most_common())"
   ]
  },
  {
   "cell_type": "markdown",
   "metadata": {},
   "source": [
    "The 20 most frequent types besides 'O' and '\\_w_pad\\_'"
   ]
  },
  {
   "cell_type": "code",
   "execution_count": 20,
   "metadata": {},
   "outputs": [
    {
     "data": {
      "image/png": "[encoded data removed]",
      "text/plain": [
       "<Figure size 432x288 with 1 Axes>"
      ]
     },
     "metadata": {
      "needs_background": "light"
     },
     "output_type": "display_data"
    }
   ],
   "source": [
    "tp, oc = tuple(zip(*counter.most_common()[2:14]))\n",
    "plt.bar(tp, oc)\n",
    "plt.xticks(rotation = 90)\n",
    "plt.show()"
   ]
  },
  {
   "cell_type": "markdown",
   "metadata": {},
   "source": [
    "Find the words that are labelled other than 'O' for at least once"
   ]
  },
  {
   "cell_type": "code",
   "execution_count": 41,
   "metadata": {},
   "outputs": [],
   "source": [
    "tr_s = [[t.lower() for t in ts] for ts in train_dict['word_seq']]\n",
    "vocab_dict_2 = {'_unk_': 0, '_w_pad_': 1}\n",
    "\n",
    "for doc in tr_s:\n",
    "    for word in doc:\n",
    "        if(word not in vocab_dict_2):\n",
    "            vocab_dict_2[word] = len(vocab_dict_2)"
   ]
  },
  {
   "cell_type": "code",
   "execution_count": 43,
   "metadata": {},
   "outputs": [
    {
     "data": {
      "text/plain": [
       "67255"
      ]
     },
     "execution_count": 43,
     "metadata": {},
     "output_type": "execute_result"
    }
   ],
   "source": [
    "len(vocab_dict_2)"
   ]
  },
  {
   "cell_type": "code",
   "execution_count": 44,
   "metadata": {},
   "outputs": [],
   "source": [
    "d = defaultdict(set)\n",
    "for ws, ts in zip(tr_s, train_dict[\"tag_seq\"]):\n",
    "    for w, t in zip(ws, ts):\n",
    "        if t != 'O':\n",
    "            d[w].add(t)\n",
    "for ws, ts in zip(tr_s, train_dict[\"tag_seq\"]):\n",
    "    for w, t in zip(ws, ts):\n",
    "        if w in d and t == 'O':\n",
    "            d[w].add(t)"
   ]
  },
  {
   "cell_type": "code",
   "execution_count": 46,
   "metadata": {},
   "outputs": [
    {
     "data": {
      "text/plain": [
       "38275"
      ]
     },
     "execution_count": 46,
     "metadata": {},
     "output_type": "execute_result"
    }
   ],
   "source": [
    "len(d)"
   ]
  },
  {
   "cell_type": "code",
   "execution_count": 48,
   "metadata": {},
   "outputs": [],
   "source": [
    "d_co = {k: len(v) for k, v in d.items()}"
   ]
  },
  {
   "cell_type": "code",
   "execution_count": 55,
   "metadata": {},
   "outputs": [
    {
     "data": {
      "text/plain": [
       "29"
      ]
     },
     "execution_count": 55,
     "metadata": {},
     "output_type": "execute_result"
    }
   ],
   "source": [
    "d_co['and']"
   ]
  },
  {
   "cell_type": "markdown",
   "metadata": {},
   "source": [
    "# Intersection of stopwords and multi-tagged word"
   ]
  },
  {
   "cell_type": "code",
   "execution_count": 62,
   "metadata": {},
   "outputs": [
    {
     "name": "stderr",
     "output_type": "stream",
     "text": [
      "[nltk_data] Downloading package stopwords to\n",
      "[nltk_data]     C:\\Users\\Shark\\AppData\\Roaming\\nltk_data...\n",
      "[nltk_data]   Package stopwords is already up-to-date!\n"
     ]
    }
   ],
   "source": [
    "nltk.download('stopwords')\n",
    "stopwords = set(stopwords.words(\"english\"))"
   ]
  },
  {
   "cell_type": "code",
   "execution_count": 70,
   "metadata": {},
   "outputs": [],
   "source": [
    "stop_d = stopwords.intersection(d)"
   ]
  },
  {
   "cell_type": "code",
   "execution_count": 74,
   "metadata": {},
   "outputs": [],
   "source": [
    "d3 = Counter()\n",
    "for k, v in d_co.items():\n",
    "    if k in stop_d:\n",
    "        d3[k] = v "
   ]
  },
  {
   "cell_type": "code",
   "execution_count": 78,
   "metadata": {},
   "outputs": [
    {
     "data": {
      "text/plain": [
       "[('and', 29),\n",
       " ('of', 26),\n",
       " ('the', 19),\n",
       " ('to', 14),\n",
       " ('s', 14),\n",
       " ('m', 13),\n",
       " ('a', 12),\n",
       " ('in', 11),\n",
       " ('for', 11),\n",
       " ('y', 11),\n",
       " ('t', 10),\n",
       " ('i', 10),\n",
       " ('or', 10),\n",
       " ('d', 9),\n",
       " ('at', 9),\n",
       " ('as', 9),\n",
       " ('with', 8),\n",
       " ('between', 8),\n",
       " ('an', 8),\n",
       " ('on', 8),\n",
       " ('than', 7),\n",
       " ('by', 7),\n",
       " ('up', 7),\n",
       " ('over', 7),\n",
       " ('more', 6),\n",
       " ('this', 6),\n",
       " ('o', 6),\n",
       " ('each', 5),\n",
       " ('about', 5),\n",
       " ('that', 5),\n",
       " ('from', 5),\n",
       " ('her', 5),\n",
       " ('against', 5),\n",
       " ('under', 4),\n",
       " ('into', 4),\n",
       " ('only', 4),\n",
       " ('few', 4),\n",
       " ('through', 4),\n",
       " ('just', 4),\n",
       " ('its', 4),\n",
       " ('don', 4),\n",
       " ('during', 4),\n",
       " ('no', 4),\n",
       " ('am', 4),\n",
       " ('is', 4),\n",
       " ('all', 3),\n",
       " ('down', 3),\n",
       " ('these', 3),\n",
       " ('ma', 3),\n",
       " ('were', 3),\n",
       " ('most', 3),\n",
       " ('some', 3),\n",
       " ('ve', 3),\n",
       " ('after', 3),\n",
       " ('above', 3),\n",
       " ('what', 3),\n",
       " ('other', 3),\n",
       " ('below', 3),\n",
       " ('out', 3),\n",
       " ('haven', 3),\n",
       " ('their', 2),\n",
       " ('now', 2),\n",
       " ('same', 2),\n",
       " ('those', 2),\n",
       " ('until', 2),\n",
       " ('before', 2),\n",
       " ('his', 2),\n",
       " ('having', 2),\n",
       " ('both', 2),\n",
       " ('our', 2),\n",
       " ('while', 2),\n",
       " ('very', 2),\n",
       " ('are', 2),\n",
       " ('we', 2),\n",
       " ('isn', 2),\n",
       " ('do', 2),\n",
       " ('can', 2),\n",
       " ('not', 2),\n",
       " ('which', 2),\n",
       " ('wasn', 1)]"
      ]
     },
     "execution_count": 78,
     "metadata": {},
     "output_type": "execute_result"
    }
   ],
   "source": [
    "d3.most_common()"
   ]
  },
  {
   "cell_type": "code",
   "execution_count": 80,
   "metadata": {},
   "outputs": [
    {
     "data": {
      "text/plain": [
       "{'ANATOMICAL_STRUCTURE',\n",
       " 'CELL',\n",
       " 'CELL_COMPONENT',\n",
       " 'CHEMICAL',\n",
       " 'DISEASE_OR_SYNDROME',\n",
       " 'EVENT',\n",
       " 'GENE_OR_GENOME',\n",
       " 'GPE',\n",
       " 'O',\n",
       " 'ORG',\n",
       " 'ORGANISM',\n",
       " 'PERSON'}"
      ]
     },
     "execution_count": 80,
     "metadata": {},
     "output_type": "execute_result"
    }
   ],
   "source": [
    "d['korea']"
   ]
  },
  {
   "cell_type": "code",
   "execution_count": null,
   "metadata": {},
   "outputs": [],
   "source": []
  }
 ],
 "metadata": {
  "kernelspec": {
   "display_name": "Python 3",
   "language": "python",
   "name": "python3"
  },
  "language_info": {
   "codemirror_mode": {
    "name": "ipython",
    "version": 3
   },
   "file_extension": ".py",
   "mimetype": "text/x-python",
   "name": "python",
   "nbconvert_exporter": "python",
   "pygments_lexer": "ipython3",
   "version": "3.8.5"
  }
 },
 "nbformat": 4,
 "nbformat_minor": 4
}
